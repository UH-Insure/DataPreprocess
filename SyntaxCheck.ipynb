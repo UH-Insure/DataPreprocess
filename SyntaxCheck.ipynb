{
 "cells": [
  {
   "cell_type": "code",
   "execution_count": 27,
   "id": "e5ff5d09",
   "metadata": {},
   "outputs": [],
   "source": [
    "import numpy as np\n",
    "import pandas as pd\n",
    "import matplotlib.pyplot as plt\n",
    "import json"
   ]
  },
  {
   "cell_type": "code",
   "execution_count": 28,
   "id": "e7e7634c",
   "metadata": {},
   "outputs": [],
   "source": [
    "jsonl_path = \"data/training_datasets/verified_nocomments.jsonl\"\n",
    "#jsonl_path = \"data/training_datasets/verified_nocomments.jsonl\"\n",
    "\n",
    "df = pd.read_json(jsonl_path, lines=True)"
   ]
  },
  {
   "cell_type": "code",
   "execution_count": 29,
   "id": "feea7a10",
   "metadata": {},
   "outputs": [
    {
     "data": {
      "text/html": [
       "<div>\n",
       "<style scoped>\n",
       "    .dataframe tbody tr th:only-of-type {\n",
       "        vertical-align: middle;\n",
       "    }\n",
       "\n",
       "    .dataframe tbody tr th {\n",
       "        vertical-align: top;\n",
       "    }\n",
       "\n",
       "    .dataframe thead th {\n",
       "        text-align: right;\n",
       "    }\n",
       "</style>\n",
       "<table border=\"1\" class=\"dataframe\">\n",
       "  <thead>\n",
       "    <tr style=\"text-align: right;\">\n",
       "      <th></th>\n",
       "      <th>filename</th>\n",
       "      <th>filetype</th>\n",
       "      <th>content</th>\n",
       "      <th>variant</th>\n",
       "    </tr>\n",
       "  </thead>\n",
       "  <tbody>\n",
       "    <tr>\n",
       "      <th>0</th>\n",
       "      <td>cryptol/examples/splitAt.cry</td>\n",
       "      <td>cry</td>\n",
       "      <td>x = [1,2,3,4] : [_][8]\\n\\ny = (splitAt x) : ([...</td>\n",
       "      <td>without_comments</td>\n",
       "    </tr>\n",
       "    <tr>\n",
       "      <th>1</th>\n",
       "      <td>cryptol/examples/AE.cry</td>\n",
       "      <td>cry</td>\n",
       "      <td>module AE where\\n\\nparameter\\n  type A : *    ...</td>\n",
       "      <td>without_comments</td>\n",
       "    </tr>\n",
       "    <tr>\n",
       "      <th>2</th>\n",
       "      <td>cryptol/examples/xor_cipher.cry</td>\n",
       "      <td>cry</td>\n",
       "      <td>encrypt : {a}(fin a) =&gt; [8] -&gt; [a][8] -&gt; [a][8...</td>\n",
       "      <td>without_comments</td>\n",
       "    </tr>\n",
       "    <tr>\n",
       "      <th>3</th>\n",
       "      <td>cryptol/examples/zero_weird.cry</td>\n",
       "      <td>cry</td>\n",
       "      <td>x : {a}() =&gt; a -&gt; [16]\\nx v = zero v \\n\\nprope...</td>\n",
       "      <td>without_comments</td>\n",
       "    </tr>\n",
       "    <tr>\n",
       "      <th>4</th>\n",
       "      <td>cryptol/examples/builtin_lifting.cry</td>\n",
       "      <td>cry</td>\n",
       "      <td>x = [True,False]\\ny = [False,True]\\n\\nproperty...</td>\n",
       "      <td>without_comments</td>\n",
       "    </tr>\n",
       "  </tbody>\n",
       "</table>\n",
       "</div>"
      ],
      "text/plain": [
       "                               filename filetype  \\\n",
       "0          cryptol/examples/splitAt.cry      cry   \n",
       "1               cryptol/examples/AE.cry      cry   \n",
       "2       cryptol/examples/xor_cipher.cry      cry   \n",
       "3       cryptol/examples/zero_weird.cry      cry   \n",
       "4  cryptol/examples/builtin_lifting.cry      cry   \n",
       "\n",
       "                                             content           variant  \n",
       "0  x = [1,2,3,4] : [_][8]\\n\\ny = (splitAt x) : ([...  without_comments  \n",
       "1  module AE where\\n\\nparameter\\n  type A : *    ...  without_comments  \n",
       "2  encrypt : {a}(fin a) => [8] -> [a][8] -> [a][8...  without_comments  \n",
       "3  x : {a}() => a -> [16]\\nx v = zero v \\n\\nprope...  without_comments  \n",
       "4  x = [True,False]\\ny = [False,True]\\n\\nproperty...  without_comments  "
      ]
     },
     "execution_count": 29,
     "metadata": {},
     "output_type": "execute_result"
    }
   ],
   "source": [
    "df.head()"
   ]
  },
  {
   "cell_type": "code",
   "execution_count": 30,
   "id": "c0c77956",
   "metadata": {},
   "outputs": [
    {
     "name": "stdout",
     "output_type": "stream",
     "text": [
      "{'host_path': '/Users/josh/SecurityAnalytics/DataPreprocess/cryptol-files/aes-mct-ecb_0h5ff8c_.cry', 'container_relpath': 'files/aes-mct-ecb_0h5ff8c_.cry', 'load_info': {'load_ok': True, 'file': 'files/aes-mct-ecb_0h5ff8c_.cry', 'error': 'None', 'file_deps': ['Cryptol', 'SuiteB']}}\n"
     ]
    }
   ],
   "source": [
    "from preprocessing.interpreter_process import verify_df_row_with_cryptol\n",
    "MOUNT_DIR = \"/Users/josh/SecurityAnalytics/DataPreprocess/cryptol-files\"\n",
    "SERVER_URL = \"http://localhost:8080\"\n",
    "print(verify_df_row_with_cryptol(df, 35, host_mount_dir=MOUNT_DIR, server_url=SERVER_URL))\n",
    "rows = []\n",
    "for i in range(len(df)):\n",
    "    if df.iloc[i][\"filetype\"] == 'cry':\n",
    "        repl_result = verify_df_row_with_cryptol(\n",
    "                df, i, host_mount_dir=MOUNT_DIR, server_url=SERVER_URL)\n",
    "        rows.append({\"filename\" : df.iloc[i][\"filename\"], **repl_result[\"load_info\"]})\n",
    "    else:\n",
    "        rows.append({\"filename\" : df.iloc[i][\"filename\"], \"load_ok\": False, \"error\": \"saw\", \"file_deps\": [\"SAW\"]})\n",
    "\n",
    "\n"
   ]
  },
  {
   "cell_type": "code",
   "execution_count": 31,
   "id": "8ae28304",
   "metadata": {},
   "outputs": [
    {
     "data": {
      "text/html": [
       "<div>\n",
       "<style scoped>\n",
       "    .dataframe tbody tr th:only-of-type {\n",
       "        vertical-align: middle;\n",
       "    }\n",
       "\n",
       "    .dataframe tbody tr th {\n",
       "        vertical-align: top;\n",
       "    }\n",
       "\n",
       "    .dataframe thead th {\n",
       "        text-align: right;\n",
       "    }\n",
       "</style>\n",
       "<table border=\"1\" class=\"dataframe\">\n",
       "  <thead>\n",
       "    <tr style=\"text-align: right;\">\n",
       "      <th></th>\n",
       "      <th>filename</th>\n",
       "      <th>load_ok</th>\n",
       "      <th>file</th>\n",
       "      <th>error</th>\n",
       "      <th>file_deps</th>\n",
       "    </tr>\n",
       "  </thead>\n",
       "  <tbody>\n",
       "    <tr>\n",
       "      <th>0</th>\n",
       "      <td>cryptol/examples/splitAt.cry</td>\n",
       "      <td>True</td>\n",
       "      <td>files/splitAt_6_blcy4m.cry</td>\n",
       "      <td>None</td>\n",
       "      <td>[Cryptol]</td>\n",
       "    </tr>\n",
       "    <tr>\n",
       "      <th>1</th>\n",
       "      <td>cryptol/examples/AE.cry</td>\n",
       "      <td>True</td>\n",
       "      <td>files/AE_klwxs842.cry</td>\n",
       "      <td>None</td>\n",
       "      <td>error</td>\n",
       "    </tr>\n",
       "    <tr>\n",
       "      <th>2</th>\n",
       "      <td>cryptol/examples/xor_cipher.cry</td>\n",
       "      <td>True</td>\n",
       "      <td>files/xor_cipher_ahnd9_5_.cry</td>\n",
       "      <td>None</td>\n",
       "      <td>[Cryptol]</td>\n",
       "    </tr>\n",
       "    <tr>\n",
       "      <th>3</th>\n",
       "      <td>cryptol/examples/zero_weird.cry</td>\n",
       "      <td>True</td>\n",
       "      <td>files/zero_weird_ufcqcy0h.cry</td>\n",
       "      <td>None</td>\n",
       "      <td>[Cryptol]</td>\n",
       "    </tr>\n",
       "    <tr>\n",
       "      <th>4</th>\n",
       "      <td>cryptol/examples/builtin_lifting.cry</td>\n",
       "      <td>True</td>\n",
       "      <td>files/builtin_lifting_6rxbufyf.cry</td>\n",
       "      <td>None</td>\n",
       "      <td>[Cryptol]</td>\n",
       "    </tr>\n",
       "  </tbody>\n",
       "</table>\n",
       "</div>"
      ],
      "text/plain": [
       "                               filename  load_ok  \\\n",
       "0          cryptol/examples/splitAt.cry     True   \n",
       "1               cryptol/examples/AE.cry     True   \n",
       "2       cryptol/examples/xor_cipher.cry     True   \n",
       "3       cryptol/examples/zero_weird.cry     True   \n",
       "4  cryptol/examples/builtin_lifting.cry     True   \n",
       "\n",
       "                                 file error  file_deps  \n",
       "0          files/splitAt_6_blcy4m.cry  None  [Cryptol]  \n",
       "1               files/AE_klwxs842.cry  None      error  \n",
       "2       files/xor_cipher_ahnd9_5_.cry  None  [Cryptol]  \n",
       "3       files/zero_weird_ufcqcy0h.cry  None  [Cryptol]  \n",
       "4  files/builtin_lifting_6rxbufyf.cry  None  [Cryptol]  "
      ]
     },
     "execution_count": 31,
     "metadata": {},
     "output_type": "execute_result"
    }
   ],
   "source": [
    "repl_results_df = pd.DataFrame(rows)\n",
    "repl_results_df.head()"
   ]
  },
  {
   "cell_type": "code",
   "execution_count": 32,
   "id": "1b55b2eb",
   "metadata": {},
   "outputs": [],
   "source": [
    "repl_results_df.to_json(f\"data/training_datasets/syntax_check/nocomments.jsonl\", orient=\"records\", lines=True)"
   ]
  },
  {
   "cell_type": "code",
   "execution_count": null,
   "id": "7ac56319",
   "metadata": {},
   "outputs": [],
   "source": [
    "\n"
   ]
  }
 ],
 "metadata": {
  "kernelspec": {
   "display_name": "InsureHub",
   "language": "python",
   "name": "python3"
  },
  "language_info": {
   "codemirror_mode": {
    "name": "ipython",
    "version": 3
   },
   "file_extension": ".py",
   "mimetype": "text/x-python",
   "name": "python",
   "nbconvert_exporter": "python",
   "pygments_lexer": "ipython3",
   "version": "3.12.11"
  }
 },
 "nbformat": 4,
 "nbformat_minor": 5
}
