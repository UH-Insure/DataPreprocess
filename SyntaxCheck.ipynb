{
 "cells": [
  {
   "cell_type": "code",
   "execution_count": 1,
   "id": "e5ff5d09",
   "metadata": {},
   "outputs": [],
   "source": [
    "import numpy as np\n",
    "import pandas as pd\n",
    "import matplotlib.pyplot as plt\n",
    "import json"
   ]
  },
  {
   "cell_type": "code",
   "execution_count": 2,
   "id": "e7e7634c",
   "metadata": {},
   "outputs": [],
   "source": [
    "jsonl_path = \"data/training_datasets/verified_nomods.jsonl\"\n",
    "#jsonl_path = \"data/training_datasets/verified_nocomments.jsonl\"\n",
    "\n",
    "df = pd.read_json(jsonl_path, lines=True)"
   ]
  },
  {
   "cell_type": "code",
   "execution_count": 3,
   "id": "feea7a10",
   "metadata": {},
   "outputs": [
    {
     "data": {
      "text/html": [
       "<div>\n",
       "<style scoped>\n",
       "    .dataframe tbody tr th:only-of-type {\n",
       "        vertical-align: middle;\n",
       "    }\n",
       "\n",
       "    .dataframe tbody tr th {\n",
       "        vertical-align: top;\n",
       "    }\n",
       "\n",
       "    .dataframe thead th {\n",
       "        text-align: right;\n",
       "    }\n",
       "</style>\n",
       "<table border=\"1\" class=\"dataframe\">\n",
       "  <thead>\n",
       "    <tr style=\"text-align: right;\">\n",
       "      <th></th>\n",
       "      <th>filename</th>\n",
       "      <th>filetype</th>\n",
       "      <th>content</th>\n",
       "    </tr>\n",
       "  </thead>\n",
       "  <tbody>\n",
       "    <tr>\n",
       "      <th>0</th>\n",
       "      <td>cryptol/examples/splitAt.cry</td>\n",
       "      <td>cry</td>\n",
       "      <td>x = [1,2,3,4] : [_][8]\\n\\ny = (splitAt x) : ([...</td>\n",
       "    </tr>\n",
       "    <tr>\n",
       "      <th>1</th>\n",
       "      <td>cryptol/examples/AE.cry</td>\n",
       "      <td>cry</td>\n",
       "      <td>// WORK IN PROGRESS\\n\\n/*\\nImplementation of t...</td>\n",
       "    </tr>\n",
       "    <tr>\n",
       "      <th>2</th>\n",
       "      <td>cryptol/examples/xor_cipher.cry</td>\n",
       "      <td>cry</td>\n",
       "      <td>encrypt : {a}(fin a) =&gt; [8] -&gt; [a][8] -&gt; [a][8...</td>\n",
       "    </tr>\n",
       "    <tr>\n",
       "      <th>3</th>\n",
       "      <td>cryptol/examples/zero_weird.cry</td>\n",
       "      <td>cry</td>\n",
       "      <td>x : {a}() =&gt; a -&gt; [16]\\nx v = zero v \\n\\nprope...</td>\n",
       "    </tr>\n",
       "    <tr>\n",
       "      <th>4</th>\n",
       "      <td>cryptol/examples/builtin_lifting.cry</td>\n",
       "      <td>cry</td>\n",
       "      <td>//builtins lift over tuples, seqs, and records...</td>\n",
       "    </tr>\n",
       "  </tbody>\n",
       "</table>\n",
       "</div>"
      ],
      "text/plain": [
       "                               filename filetype  \\\n",
       "0          cryptol/examples/splitAt.cry      cry   \n",
       "1               cryptol/examples/AE.cry      cry   \n",
       "2       cryptol/examples/xor_cipher.cry      cry   \n",
       "3       cryptol/examples/zero_weird.cry      cry   \n",
       "4  cryptol/examples/builtin_lifting.cry      cry   \n",
       "\n",
       "                                             content  \n",
       "0  x = [1,2,3,4] : [_][8]\\n\\ny = (splitAt x) : ([...  \n",
       "1  // WORK IN PROGRESS\\n\\n/*\\nImplementation of t...  \n",
       "2  encrypt : {a}(fin a) => [8] -> [a][8] -> [a][8...  \n",
       "3  x : {a}() => a -> [16]\\nx v = zero v \\n\\nprope...  \n",
       "4  //builtins lift over tuples, seqs, and records...  "
      ]
     },
     "execution_count": 3,
     "metadata": {},
     "output_type": "execute_result"
    }
   ],
   "source": [
    "df.head()"
   ]
  },
  {
   "cell_type": "code",
   "execution_count": 9,
   "id": "c0c77956",
   "metadata": {},
   "outputs": [
    {
     "name": "stdout",
     "output_type": "stream",
     "text": [
      "{'host_path': '/Users/josh/SecurityAnalytics/DataPreprocess/cryptol-files/aes-mct-ecb_0kn9psvx.cry', 'container_relpath': 'files/aes-mct-ecb_0kn9psvx.cry', 'load_info': {'load_ok': True, 'file': 'files/aes-mct-ecb_0kn9psvx.cry', 'error': 'None', 'file_deps': ['Cryptol', 'SuiteB']}}\n"
     ]
    }
   ],
   "source": [
    "from preprocessing.interpreter_process import verify_df_row_with_cryptol\n",
    "MOUNT_DIR = \"/Users/josh/SecurityAnalytics/DataPreprocess/cryptol-files\"\n",
    "SERVER_URL = \"http://localhost:8080\"\n",
    "print(verify_df_row_with_cryptol(df, 35, host_mount_dir=MOUNT_DIR, server_url=SERVER_URL))\n",
    "rows = []\n",
    "for i in range(len(df)):\n",
    "    repl_result = verify_df_row_with_cryptol(\n",
    "            df, i, host_mount_dir=MOUNT_DIR, server_url=SERVER_URL)\n",
    "    rows.append({\"filename\" : df.iloc[i][\"filename\"], **repl_result[\"load_info\"]})\n",
    "\n"
   ]
  },
  {
   "cell_type": "code",
   "execution_count": 10,
   "id": "8ae28304",
   "metadata": {},
   "outputs": [
    {
     "data": {
      "text/html": [
       "<div>\n",
       "<style scoped>\n",
       "    .dataframe tbody tr th:only-of-type {\n",
       "        vertical-align: middle;\n",
       "    }\n",
       "\n",
       "    .dataframe tbody tr th {\n",
       "        vertical-align: top;\n",
       "    }\n",
       "\n",
       "    .dataframe thead th {\n",
       "        text-align: right;\n",
       "    }\n",
       "</style>\n",
       "<table border=\"1\" class=\"dataframe\">\n",
       "  <thead>\n",
       "    <tr style=\"text-align: right;\">\n",
       "      <th></th>\n",
       "      <th>filename</th>\n",
       "      <th>load_ok</th>\n",
       "      <th>file</th>\n",
       "      <th>error</th>\n",
       "      <th>file_deps</th>\n",
       "    </tr>\n",
       "  </thead>\n",
       "  <tbody>\n",
       "    <tr>\n",
       "      <th>0</th>\n",
       "      <td>cryptol/examples/splitAt.cry</td>\n",
       "      <td>True</td>\n",
       "      <td>files/splitAt_63lzktqd.cry</td>\n",
       "      <td>None</td>\n",
       "      <td>[Cryptol]</td>\n",
       "    </tr>\n",
       "    <tr>\n",
       "      <th>1</th>\n",
       "      <td>cryptol/examples/AE.cry</td>\n",
       "      <td>True</td>\n",
       "      <td>files/AE_vytd5jc4.cry</td>\n",
       "      <td>None</td>\n",
       "      <td>[AE__parameter, Cryptol]</td>\n",
       "    </tr>\n",
       "    <tr>\n",
       "      <th>2</th>\n",
       "      <td>cryptol/examples/xor_cipher.cry</td>\n",
       "      <td>True</td>\n",
       "      <td>files/xor_cipher_tn40lndi.cry</td>\n",
       "      <td>None</td>\n",
       "      <td>[Cryptol]</td>\n",
       "    </tr>\n",
       "    <tr>\n",
       "      <th>3</th>\n",
       "      <td>cryptol/examples/zero_weird.cry</td>\n",
       "      <td>True</td>\n",
       "      <td>files/zero_weird_pzbhu55k.cry</td>\n",
       "      <td>None</td>\n",
       "      <td>[Cryptol]</td>\n",
       "    </tr>\n",
       "    <tr>\n",
       "      <th>4</th>\n",
       "      <td>cryptol/examples/builtin_lifting.cry</td>\n",
       "      <td>True</td>\n",
       "      <td>files/builtin_lifting_pti17lgj.cry</td>\n",
       "      <td>None</td>\n",
       "      <td>[Cryptol]</td>\n",
       "    </tr>\n",
       "  </tbody>\n",
       "</table>\n",
       "</div>"
      ],
      "text/plain": [
       "                               filename  load_ok  \\\n",
       "0          cryptol/examples/splitAt.cry     True   \n",
       "1               cryptol/examples/AE.cry     True   \n",
       "2       cryptol/examples/xor_cipher.cry     True   \n",
       "3       cryptol/examples/zero_weird.cry     True   \n",
       "4  cryptol/examples/builtin_lifting.cry     True   \n",
       "\n",
       "                                 file error                 file_deps  \n",
       "0          files/splitAt_63lzktqd.cry  None                 [Cryptol]  \n",
       "1               files/AE_vytd5jc4.cry  None  [AE__parameter, Cryptol]  \n",
       "2       files/xor_cipher_tn40lndi.cry  None                 [Cryptol]  \n",
       "3       files/zero_weird_pzbhu55k.cry  None                 [Cryptol]  \n",
       "4  files/builtin_lifting_pti17lgj.cry  None                 [Cryptol]  "
      ]
     },
     "execution_count": 10,
     "metadata": {},
     "output_type": "execute_result"
    }
   ],
   "source": [
    "repl_results_df = pd.DataFrame(rows)\n",
    "repl_results_df.head()"
   ]
  },
  {
   "cell_type": "code",
   "execution_count": 17,
   "id": "1b55b2eb",
   "metadata": {},
   "outputs": [],
   "source": [
    "repl_results_df.to_json(f\"data/training_datasets/syntax_check/nomods.jsonl\", orient=\"records\", lines=True)"
   ]
  }
 ],
 "metadata": {
  "kernelspec": {
   "display_name": "InsureHub",
   "language": "python",
   "name": "python3"
  },
  "language_info": {
   "codemirror_mode": {
    "name": "ipython",
    "version": 3
   },
   "file_extension": ".py",
   "mimetype": "text/x-python",
   "name": "python",
   "nbconvert_exporter": "python",
   "pygments_lexer": "ipython3",
   "version": "3.12.11"
  }
 },
 "nbformat": 4,
 "nbformat_minor": 5
}
