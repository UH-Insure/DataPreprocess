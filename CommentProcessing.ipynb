{
 "cells": [
  {
   "cell_type": "code",
   "execution_count": 7,
   "id": "fecc0251",
   "metadata": {},
   "outputs": [],
   "source": [
    "import numpy as np\n",
    "import pandas as pd\n",
    "import matplotlib.pyplot as plt\n",
    "import json\n",
    "from preprocessing.comment_process import normalize_blanklines, strip_cryptol_comments_all"
   ]
  },
  {
   "cell_type": "code",
   "execution_count": 2,
   "id": "1511b44d",
   "metadata": {},
   "outputs": [
    {
     "name": "stdout",
     "output_type": "stream",
     "text": [
      "Loaded 838 rows\n"
     ]
    }
   ],
   "source": [
    "jsonl_path = \"data/training_datasets/verified_nomods.jsonl\"\n",
    "\n",
    "# --- load dataset ---\n",
    "rows = []\n",
    "with open(jsonl_path, \"r\", encoding=\"utf-8\") as f:\n",
    "    for line in f:\n",
    "        rows.append(json.loads(line))\n",
    "\n",
    "print(f\"Loaded {len(rows)} rows\")\n",
    "\n",
    "nomod_df = pd.DataFrame(rows)"
   ]
  },
  {
   "cell_type": "code",
   "execution_count": 3,
   "id": "367e4e0c",
   "metadata": {},
   "outputs": [
    {
     "data": {
      "text/html": [
       "<div>\n",
       "<style scoped>\n",
       "    .dataframe tbody tr th:only-of-type {\n",
       "        vertical-align: middle;\n",
       "    }\n",
       "\n",
       "    .dataframe tbody tr th {\n",
       "        vertical-align: top;\n",
       "    }\n",
       "\n",
       "    .dataframe thead th {\n",
       "        text-align: right;\n",
       "    }\n",
       "</style>\n",
       "<table border=\"1\" class=\"dataframe\">\n",
       "  <thead>\n",
       "    <tr style=\"text-align: right;\">\n",
       "      <th></th>\n",
       "      <th>filename</th>\n",
       "      <th>filetype</th>\n",
       "      <th>content</th>\n",
       "    </tr>\n",
       "  </thead>\n",
       "  <tbody>\n",
       "    <tr>\n",
       "      <th>0</th>\n",
       "      <td>cryptol/examples/splitAt.cry</td>\n",
       "      <td>cry</td>\n",
       "      <td>x = [1,2,3,4] : [_][8]\\n\\ny = (splitAt x) : ([...</td>\n",
       "    </tr>\n",
       "    <tr>\n",
       "      <th>1</th>\n",
       "      <td>cryptol/examples/AE.cry</td>\n",
       "      <td>cry</td>\n",
       "      <td>// WORK IN PROGRESS\\n\\n/*\\nImplementation of t...</td>\n",
       "    </tr>\n",
       "    <tr>\n",
       "      <th>2</th>\n",
       "      <td>cryptol/examples/xor_cipher.cry</td>\n",
       "      <td>cry</td>\n",
       "      <td>encrypt : {a}(fin a) =&gt; [8] -&gt; [a][8] -&gt; [a][8...</td>\n",
       "    </tr>\n",
       "    <tr>\n",
       "      <th>3</th>\n",
       "      <td>cryptol/examples/zero_weird.cry</td>\n",
       "      <td>cry</td>\n",
       "      <td>x : {a}() =&gt; a -&gt; [16]\\nx v = zero v \\n\\nprope...</td>\n",
       "    </tr>\n",
       "    <tr>\n",
       "      <th>4</th>\n",
       "      <td>cryptol/examples/builtin_lifting.cry</td>\n",
       "      <td>cry</td>\n",
       "      <td>//builtins lift over tuples, seqs, and records...</td>\n",
       "    </tr>\n",
       "  </tbody>\n",
       "</table>\n",
       "</div>"
      ],
      "text/plain": [
       "                               filename filetype  \\\n",
       "0          cryptol/examples/splitAt.cry      cry   \n",
       "1               cryptol/examples/AE.cry      cry   \n",
       "2       cryptol/examples/xor_cipher.cry      cry   \n",
       "3       cryptol/examples/zero_weird.cry      cry   \n",
       "4  cryptol/examples/builtin_lifting.cry      cry   \n",
       "\n",
       "                                             content  \n",
       "0  x = [1,2,3,4] : [_][8]\\n\\ny = (splitAt x) : ([...  \n",
       "1  // WORK IN PROGRESS\\n\\n/*\\nImplementation of t...  \n",
       "2  encrypt : {a}(fin a) => [8] -> [a][8] -> [a][8...  \n",
       "3  x : {a}() => a -> [16]\\nx v = zero v \\n\\nprope...  \n",
       "4  //builtins lift over tuples, seqs, and records...  "
      ]
     },
     "execution_count": 3,
     "metadata": {},
     "output_type": "execute_result"
    }
   ],
   "source": [
    "nomod_df.head()"
   ]
  },
  {
   "cell_type": "code",
   "execution_count": 4,
   "id": "15b51b31",
   "metadata": {},
   "outputs": [],
   "source": [
    "nocomment_df = nomod_df.copy()\n",
    "nocomment_df[\"content\"] = nocomment_df[\"content\"].apply(strip_cryptol_comments_all)\n"
   ]
  },
  {
   "cell_type": "code",
   "execution_count": null,
   "id": "53aa0f66",
   "metadata": {},
   "outputs": [
    {
     "data": {
      "text/html": [
       "<div>\n",
       "<style scoped>\n",
       "    .dataframe tbody tr th:only-of-type {\n",
       "        vertical-align: middle;\n",
       "    }\n",
       "\n",
       "    .dataframe tbody tr th {\n",
       "        vertical-align: top;\n",
       "    }\n",
       "\n",
       "    .dataframe thead th {\n",
       "        text-align: right;\n",
       "    }\n",
       "</style>\n",
       "<table border=\"1\" class=\"dataframe\">\n",
       "  <thead>\n",
       "    <tr style=\"text-align: right;\">\n",
       "      <th></th>\n",
       "      <th>filename</th>\n",
       "      <th>filetype</th>\n",
       "      <th>content</th>\n",
       "    </tr>\n",
       "  </thead>\n",
       "  <tbody>\n",
       "    <tr>\n",
       "      <th>0</th>\n",
       "      <td>cryptol/examples/splitAt.cry</td>\n",
       "      <td>cry</td>\n",
       "      <td>x = [1,2,3,4] : [_][8]\\n\\ny = (splitAt x) : ([...</td>\n",
       "    </tr>\n",
       "    <tr>\n",
       "      <th>1</th>\n",
       "      <td>cryptol/examples/AE.cry</td>\n",
       "      <td>cry</td>\n",
       "      <td>\\n\\nmodule AE where\\n\\nparameter\\n  type A : *...</td>\n",
       "    </tr>\n",
       "    <tr>\n",
       "      <th>2</th>\n",
       "      <td>cryptol/examples/xor_cipher.cry</td>\n",
       "      <td>cry</td>\n",
       "      <td>encrypt : {a}(fin a) =&gt; [8] -&gt; [a][8] -&gt; [a][8...</td>\n",
       "    </tr>\n",
       "    <tr>\n",
       "      <th>3</th>\n",
       "      <td>cryptol/examples/zero_weird.cry</td>\n",
       "      <td>cry</td>\n",
       "      <td>x : {a}() =&gt; a -&gt; [16]\\nx v = zero v \\n\\nprope...</td>\n",
       "    </tr>\n",
       "    <tr>\n",
       "      <th>4</th>\n",
       "      <td>cryptol/examples/builtin_lifting.cry</td>\n",
       "      <td>cry</td>\n",
       "      <td>\\n\\nx = [True,False]\\ny = [False,True]\\n\\nprop...</td>\n",
       "    </tr>\n",
       "  </tbody>\n",
       "</table>\n",
       "</div>"
      ],
      "text/plain": [
       "                               filename filetype  \\\n",
       "0          cryptol/examples/splitAt.cry      cry   \n",
       "1               cryptol/examples/AE.cry      cry   \n",
       "2       cryptol/examples/xor_cipher.cry      cry   \n",
       "3       cryptol/examples/zero_weird.cry      cry   \n",
       "4  cryptol/examples/builtin_lifting.cry      cry   \n",
       "\n",
       "                                             content  \n",
       "0  x = [1,2,3,4] : [_][8]\\n\\ny = (splitAt x) : ([...  \n",
       "1  \\n\\nmodule AE where\\n\\nparameter\\n  type A : *...  \n",
       "2  encrypt : {a}(fin a) => [8] -> [a][8] -> [a][8...  \n",
       "3  x : {a}() => a -> [16]\\nx v = zero v \\n\\nprope...  \n",
       "4  \\n\\nx = [True,False]\\ny = [False,True]\\n\\nprop...  "
      ]
     },
     "execution_count": 5,
     "metadata": {},
     "output_type": "execute_result"
    }
   ],
   "source": [
    "nocomment_df.head()"
   ]
  },
  {
   "cell_type": "code",
   "execution_count": 8,
   "id": "9a1ad490",
   "metadata": {},
   "outputs": [],
   "source": [
    "nocomment_df[\"content\"] = nocomment_df[\"content\"].apply(normalize_blanklines)"
   ]
  },
  {
   "cell_type": "code",
   "execution_count": null,
   "id": "52dad036",
   "metadata": {},
   "outputs": [
    {
     "data": {
      "text/html": [
       "<div>\n",
       "<style scoped>\n",
       "    .dataframe tbody tr th:only-of-type {\n",
       "        vertical-align: middle;\n",
       "    }\n",
       "\n",
       "    .dataframe tbody tr th {\n",
       "        vertical-align: top;\n",
       "    }\n",
       "\n",
       "    .dataframe thead th {\n",
       "        text-align: right;\n",
       "    }\n",
       "</style>\n",
       "<table border=\"1\" class=\"dataframe\">\n",
       "  <thead>\n",
       "    <tr style=\"text-align: right;\">\n",
       "      <th></th>\n",
       "      <th>filename</th>\n",
       "      <th>filetype</th>\n",
       "      <th>content</th>\n",
       "      <th>variant</th>\n",
       "    </tr>\n",
       "  </thead>\n",
       "  <tbody>\n",
       "    <tr>\n",
       "      <th>0</th>\n",
       "      <td>cryptol/examples/splitAt.cry</td>\n",
       "      <td>cry</td>\n",
       "      <td>x = [1,2,3,4] : [_][8]\\n\\ny = (splitAt x) : ([...</td>\n",
       "      <td>without_comments</td>\n",
       "    </tr>\n",
       "    <tr>\n",
       "      <th>1</th>\n",
       "      <td>cryptol/examples/AE.cry</td>\n",
       "      <td>cry</td>\n",
       "      <td>module AE where\\n\\nparameter\\n  type A : *    ...</td>\n",
       "      <td>without_comments</td>\n",
       "    </tr>\n",
       "    <tr>\n",
       "      <th>2</th>\n",
       "      <td>cryptol/examples/xor_cipher.cry</td>\n",
       "      <td>cry</td>\n",
       "      <td>encrypt : {a}(fin a) =&gt; [8] -&gt; [a][8] -&gt; [a][8...</td>\n",
       "      <td>without_comments</td>\n",
       "    </tr>\n",
       "    <tr>\n",
       "      <th>3</th>\n",
       "      <td>cryptol/examples/zero_weird.cry</td>\n",
       "      <td>cry</td>\n",
       "      <td>x : {a}() =&gt; a -&gt; [16]\\nx v = zero v \\n\\nprope...</td>\n",
       "      <td>without_comments</td>\n",
       "    </tr>\n",
       "    <tr>\n",
       "      <th>4</th>\n",
       "      <td>cryptol/examples/builtin_lifting.cry</td>\n",
       "      <td>cry</td>\n",
       "      <td>x = [True,False]\\ny = [False,True]\\n\\nproperty...</td>\n",
       "      <td>without_comments</td>\n",
       "    </tr>\n",
       "  </tbody>\n",
       "</table>\n",
       "</div>"
      ],
      "text/plain": [
       "                               filename filetype  \\\n",
       "0          cryptol/examples/splitAt.cry      cry   \n",
       "1               cryptol/examples/AE.cry      cry   \n",
       "2       cryptol/examples/xor_cipher.cry      cry   \n",
       "3       cryptol/examples/zero_weird.cry      cry   \n",
       "4  cryptol/examples/builtin_lifting.cry      cry   \n",
       "\n",
       "                                             content           variant  \n",
       "0  x = [1,2,3,4] : [_][8]\\n\\ny = (splitAt x) : ([...  without_comments  \n",
       "1  module AE where\\n\\nparameter\\n  type A : *    ...  without_comments  \n",
       "2  encrypt : {a}(fin a) => [8] -> [a][8] -> [a][8...  without_comments  \n",
       "3  x : {a}() => a -> [16]\\nx v = zero v \\n\\nprope...  without_comments  \n",
       "4  x = [True,False]\\ny = [False,True]\\n\\nproperty...  without_comments  "
      ]
     },
     "execution_count": 11,
     "metadata": {},
     "output_type": "execute_result"
    }
   ],
   "source": [
    "nocomment_df[\"variant\"] = \"without_comments\"\n",
    "nocomment_df.head()"
   ]
  },
  {
   "cell_type": "code",
   "execution_count": 12,
   "id": "a6ea787c",
   "metadata": {},
   "outputs": [],
   "source": [
    "nocomment_df.to_json(\"data/training_datasets/verified_nocomments.jsonl\", orient=\"records\", lines=True, force_ascii=False)\n"
   ]
  }
 ],
 "metadata": {
  "kernelspec": {
   "display_name": "InsureHub",
   "language": "python",
   "name": "python3"
  },
  "language_info": {
   "codemirror_mode": {
    "name": "ipython",
    "version": 3
   },
   "file_extension": ".py",
   "mimetype": "text/x-python",
   "name": "python",
   "nbconvert_exporter": "python",
   "pygments_lexer": "ipython3",
   "version": "3.12.11"
  }
 },
 "nbformat": 4,
 "nbformat_minor": 5
}
